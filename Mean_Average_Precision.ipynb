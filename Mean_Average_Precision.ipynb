{
  "nbformat": 4,
  "nbformat_minor": 0,
  "metadata": {
    "colab": {
      "name": "Mean_Average_Precision.ipynb",
      "provenance": [],
      "authorship_tag": "ABX9TyMjGAQrMjxEvZqLnygFLXPH",
      "include_colab_link": true
    },
    "kernelspec": {
      "name": "python3",
      "display_name": "Python 3"
    },
    "language_info": {
      "name": "python"
    }
  },
  "cells": [
    {
      "cell_type": "markdown",
      "metadata": {
        "id": "view-in-github",
        "colab_type": "text"
      },
      "source": [
        "<a href=\"https://colab.research.google.com/github/nicholaskuo/Mean_Average_Precision/blob/main/Mean_Average_Precision.ipynb\" target=\"_parent\"><img src=\"https://colab.research.google.com/assets/colab-badge.svg\" alt=\"Open In Colab\"/></a>"
      ]
    },
    {
      "cell_type": "code",
      "metadata": {
        "id": "qOCAnaYXLt2G"
      },
      "source": [
        "import torch\n",
        "from collections import Counter\n",
        "import torchvision"
      ],
      "execution_count": null,
      "outputs": []
    },
    {
      "cell_type": "markdown",
      "metadata": {
        "id": "q-g6spJmYUku"
      },
      "source": [
        "**NOTE**: Usually mAP does multiiple IOU's (.5, .55, .6...,.95) as said in step 7, so we can just call mAP a few times with different iou_threshold and then average the values if needed :)"
      ]
    },
    {
      "cell_type": "markdown",
      "metadata": {
        "id": "ZkYjdvVupZJ2"
      },
      "source": [
        "**mAP notes:**\n",
        "\n",
        "Step 1: Get all bounding box predictions on our test set\n",
        "\n",
        "Step 2: Sort by descending confidence score\n",
        "*   Precision: (# detected ground truths) / (total # detected boxes) \n",
        "*   Recall: (# detected ground truths) / (total # ground truths)\n",
        "\n",
        "Step 3: Calculate the Precision and Recall as we go through all output bounding boxes for a given class\n",
        "\n",
        "Step 4: Plot the Precision-Recall graph (Recall on x axis, Precision on y axis)\n",
        "\n",
        "Step 5: Calculate Area under curve to find average precision for given class\n",
        "\n",
        "Step 6: Repeat process for all classes, take total average\n",
        "\n",
        "Step 7: This mAP will be mAP@.5:.05:.95 (meaning we will calculate the IoU threshold at the different values of .5, .55, .6..., .95 then average all these values to find final result)\n",
        "\n",
        "\n",
        "\n"
      ]
    },
    {
      "cell_type": "code",
      "metadata": {
        "id": "thHDI4ykMMYh"
      },
      "source": [
        "def mAP(\n",
        "    predicted_boxes, gt_boxes, iou_threshold = .5, box_format = \"corners\", \n",
        "    num_classes = 21):\n",
        "  '''\n",
        "  inputs: \n",
        "    predicted_boxes (list): [[train_index, class_prediction, prob_score, x1, y1, x2, y2],[],...[]]\n",
        "      train_index: index of image that the specific bbox comes from\n",
        "      class_prediction: integer value representing class prediction\n",
        "      prob_score: outputed objectiveness score for a bbox \n",
        "      x1,y1,x2,y2: (x1, y1) and (x2,y2) bbox coordinates\n",
        "    gt_boxes (list): [[train_index, class_prediction, prob_score, x1, y1, x2, y2],[],...[]]\n",
        "    iou_threshold\n",
        "    num_classes: number of classes in dataset\n",
        "\n",
        "  outputs:\n",
        "    averageMeanPrecision: mean average precision \n",
        "  '''\n",
        "\n",
        "  average_precisions = []\n",
        "  epsilon = 1e-6\n",
        "\n",
        "  #looping through each class\n",
        "  for c in range(num_classes):\n",
        "    # detections (list): predicted_boxes that are class c\n",
        "    detections = []\n",
        "    # ground_truths (list): gt_boxes that are class c\n",
        "    ground_truths = []\n",
        "\n",
        "    # looping through all predictions\n",
        "    # detection[1] is the class prediction\n",
        "    for detection in predicted_boxes:\n",
        "      if detection[1] == c:\n",
        "        detections.append(detection)\n",
        "    \n",
        "    # looping through all ground truth boxes\n",
        "    for gt_box in gt_boxes:\n",
        "      if gt_box[1] == c:\n",
        "        ground_truths.append(gt_box)\n",
        "    \n",
        "    # use Counter to create a dictionary where key is image # and value\n",
        "    # is the # of bboxes in the given image\n",
        "    amount_bboxes = Counter([gt[0] for gt in ground_truths])\n",
        "\n",
        "    # goal: keep track of the gt bboxes we have already \"detected\" with prior predicted bboxes\n",
        "    # key: image #\n",
        "    # value: tensor of 0's (size is equal to # of bboxes in the given image)\n",
        "    for key, value in amount_bboxes.items():\n",
        "      amount_bboxes[key] = torch.zeros(value)\n",
        "    \n",
        "    # sort over the probabiliity scores of the detections\n",
        "    detections.sort(key = lambda x: x[2], reverse = True)\n",
        "\n",
        "    true_Positives = torch.zeros(len(detections))\n",
        "    false_Positives = torch.zeros(len(detections))\n",
        "    total_gt_bboxes = len(ground_truths)\n",
        "\n",
        "    # iterate through all detections in given class c\n",
        "    for detection_index, detection in enumerate(detections):\n",
        "      # detection[0] indicates image #\n",
        "      # ground_truth_image: the gt bbox's that are in same image as detection\n",
        "      ground_truth_image = [bbox for bbox in ground_truths if bbox[0] == detection[0]]\n",
        "\n",
        "      # num_gt_boxes: number of ground truth boxes in given image\n",
        "      num_gt_boxes = len(ground_truth_image)\n",
        "      best_iou = 0\n",
        "      best_gt_index = 0\n",
        "\n",
        "      for index, gt in enumerate(ground_truth_image):\n",
        "        iou = torchvision.ops.box_iou(torch.tensor(detection[3:]).unsqueeze(0), \n",
        "                                      torch.tensor(gt[3:]).unsqueeze(0))\n",
        "        if iou > best_iou:\n",
        "          best_iou = iou\n",
        "          best_gt_index = index\n",
        "\n",
        "      if best_iou > iou_threshold:\n",
        "        # check if gt_bbox with best_iou was already covered by previous detection with higher confidence score\n",
        "        # amount_bboxes[detection[0]][best_gt_index] == 0 if not discovered yet, 1 otherwise\n",
        "        if amount_bboxes[detection[0]][best_gt_index] == 0:\n",
        "          true_Positives[detection_index] = 1\n",
        "          amount_bboxes[detection[0]][best_gt_index] == 1\n",
        "        else:\n",
        "          false_Positives[detection_index] = 1\n",
        "      else:\n",
        "        false_Positives[detection_index] = 1\n",
        "\n",
        "    # tensor ex: [1, 0, 0, 1] -> [1, 1, 1, 2]\n",
        "    true_pos_cumulative_sum = torch.cumsum(true_Positives, dim = 0)\n",
        "    false_pos_cumulative_sum = torch.cumsum(false_Positives, dim = 0)\n",
        " \n",
        "    # calculate recall and precision for given class\n",
        "    recalls = true_pos_cumulative_sum / (total_gt_bboxes + epsilon)\n",
        "    precisions = torch.divide(true_pos_cumulative_sum, (true_pos_cumulative_sum + false_pos_cumulative_sum + epsilon))\n",
        "    \n",
        "    # add 1 to precisions to start graph at (0,1) for integration\n",
        "    precisions = torch.cat((torch.tensor([1]), precisions))\n",
        "    recalls = torch.cat((torch.tensor([0]), recalls))\n",
        "\n",
        "    # torch.trapz calculates area under a curve\n",
        "    # torch.trapz(y, x, *, dim=-1) → Tensor\n",
        "    average_precisions.append(torch.trapz(precisions, recalls))\n",
        "  \n",
        "  averageMeanPrecision = sum(average_precisions) / len(average_precisions)\n",
        "  return averageMeanPrecision"
      ],
      "execution_count": null,
      "outputs": []
    },
    {
      "cell_type": "markdown",
      "metadata": {
        "id": "fhiLSghYL6on"
      },
      "source": [
        "Testing"
      ]
    },
    {
      "cell_type": "code",
      "metadata": {
        "colab": {
          "base_uri": "https://localhost:8080/"
        },
        "id": "3mId0AvdL9h0",
        "outputId": "f9ad9fdd-6441-4508-a48f-23b488b332e7"
      },
      "source": [
        "# same bounding box, same class (should be 1)\n",
        "numClass = 1\n",
        "detected_bbox = [[0, 0, 1, 10, 10, 40, 40]]\n",
        "gt_bbox = [[0, 0, 1, 10, 10, 40, 40]]\n",
        "value = mAP(detected_bbox, gt_bbox, num_classes = numClass)\n",
        "print(value)\n",
        "\n",
        "# iou should be .5, which should mean detected_bbox is false neg\n",
        "detected_bbox = [[0, 0, 1, 0, 0, 40, 40]]\n",
        "gt_bbox = [[0, 0, 1, 0, 0, 40, 20]]\n",
        "value = mAP(detected_bbox, gt_bbox, num_classes = numClass)\n",
        "print(value)\n",
        "\n",
        "# expected value should be .533 based on test info\n",
        "detected_bbox = [[0, 0, .3, 60, 10, 75, 25], \n",
        "                 [0, 0, .6, 20, 35, 40, 45],\n",
        "                 [0, 0, .7, 50, 35, 68, 50],\n",
        "                 [1, 0, .5, 25, 5, 90, 50],\n",
        "                 [2, 0, .2, 0, 10, 20, 25],\n",
        "                 [2, 0, .8, 25, 10, 50, 23],\n",
        "                 [2, 0, .9, 10, 28, 48, 95]]\n",
        "\n",
        "gt_bbox = [[0, 0, 1, 20, 15, 40, 43],\n",
        "           [0, 0, 1, 52, 35, 68, 50],\n",
        "           [1, 0, 1, 30, 5, 85, 50],\n",
        "           [2, 0, .9, 5, 28, 42, 91]]\n",
        "value = mAP(detected_bbox, gt_bbox, num_classes = numClass)\n",
        "print(value)"
      ],
      "execution_count": null,
      "outputs": [
        {
          "output_type": "stream",
          "text": [
            "tensor(1.0000)\n",
            "tensor(0.)\n",
            "tensor(0.5333)\n"
          ],
          "name": "stdout"
        }
      ]
    }
  ]
}